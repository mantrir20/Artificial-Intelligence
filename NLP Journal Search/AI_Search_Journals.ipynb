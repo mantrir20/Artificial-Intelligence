{
  "nbformat": 4,
  "nbformat_minor": 0,
  "metadata": {
    "colab": {
      "name": "AI_Search Journals.ipynb",
      "provenance": [],
      "collapsed_sections": []
    },
    "kernelspec": {
      "name": "python3",
      "display_name": "Python 3"
    }
  },
  "cells": [
    {
      "cell_type": "markdown",
      "metadata": {
        "id": "6KijB6g_6X8W"
      },
      "source": [
        "# Initialization"
      ]
    },
    {
      "cell_type": "markdown",
      "metadata": {
        "id": "1jpkh_5j6cC6"
      },
      "source": [
        "Import Dependencies"
      ]
    },
    {
      "cell_type": "code",
      "metadata": {
        "id": "pRpprXUU6e4x",
        "colab": {
          "base_uri": "https://localhost:8080/"
        },
        "outputId": "77f78681-fb85-4706-b8f4-f7787a8f5593"
      },
      "source": [
        "#mount drive\n",
        "from google.colab import drive\n",
        "drive.mount('/content/drive')\n",
        "\n",
        "import pandas as pd\n",
        "import numpy as np\n",
        "import nltk\n",
        "import math\n",
        "import operator\n",
        "from nltk.stem import PorterStemmer\n",
        "from nltk.tokenize import word_tokenize\n",
        "nltk.download('punkt')\n",
        "nltk.download('stopwords')\n",
        "import string\n",
        "import json\n",
        "import gensim\n",
        "from gensim.utils import simple_preprocess\n",
        "from gensim.parsing.preprocessing import STOPWORDS\n",
        "np.random.seed(2018)\n",
        "nltk.download('wordnet')\n",
        "import random"
      ],
      "execution_count": 1,
      "outputs": [
        {
          "output_type": "stream",
          "text": [
            "Mounted at /content/drive\n",
            "[nltk_data] Downloading package punkt to /root/nltk_data...\n",
            "[nltk_data]   Unzipping tokenizers/punkt.zip.\n",
            "[nltk_data] Downloading package stopwords to /root/nltk_data...\n",
            "[nltk_data]   Unzipping corpora/stopwords.zip.\n",
            "[nltk_data] Downloading package wordnet to /root/nltk_data...\n",
            "[nltk_data]   Unzipping corpora/wordnet.zip.\n"
          ],
          "name": "stdout"
        }
      ]
    },
    {
      "cell_type": "markdown",
      "metadata": {
        "id": "T65oGdEC7Oil"
      },
      "source": [
        "Dataset and Dataframes"
      ]
    },
    {
      "cell_type": "code",
      "metadata": {
        "id": "-O1ayhbI7S8i",
        "colab": {
          "base_uri": "https://localhost:8080/"
        },
        "outputId": "06249520-a623-42b1-d605-e5c5e5506106"
      },
      "source": [
        "#json file has complete data with column attributes\n",
        "dataset = pd.read_csv('/content/drive/MyDrive/AI Assignment/dataset/journals_26800.csv', thousands=\",\")\n",
        "\n",
        "headlines = dataset['Title'].to_numpy()\n",
        "short_desc = dataset['Scope'].to_numpy()\n",
        "\n",
        "print(headlines[781])\n",
        "print(short_desc[781])\n",
        "\n",
        "#total docs actually present in corpus\n",
        "print(len(dataset))\n",
        "total_reviews = len(dataset)"
      ],
      "execution_count": 8,
      "outputs": [
        {
          "output_type": "stream",
          "text": [
            "JAMA Ophthalmology\n",
            "JAMA Ophthalmology, published continuously since 1869, is an international, peer-reviewed ophthalmology and visual science journal. In 2019, the journal celebrates 150 years of continuous publication. JAMA Ophthalmology is a member of the JAMA Network, a consortium of peer-reviewed, general medical and specialty publications.\n",
            "26800\n"
          ],
          "name": "stdout"
        }
      ]
    },
    {
      "cell_type": "markdown",
      "metadata": {
        "id": "PebYnIo49DWJ"
      },
      "source": [
        "# Preprocessing data"
      ]
    },
    {
      "cell_type": "markdown",
      "metadata": {
        "id": "WAktczRy9qQT"
      },
      "source": [
        "Stemming and tokenization"
      ]
    },
    {
      "cell_type": "code",
      "metadata": {
        "id": "1x_KH3xk9tMF"
      },
      "source": [
        "'''\n",
        "Preprocessing function - Porter stemmer\n",
        "'''\n",
        "def preprocess_docs(data):\n",
        "    processed_data=[]\n",
        "    stemmer = PorterStemmer()\n",
        "    for d in data:\n",
        "        tempf=[]\n",
        "        temp = str(d)\n",
        "        temp = ''.join(c for c in temp if c not in string.punctuation)\n",
        "        temp = nltk.word_tokenize(temp)\n",
        "        temp = [w.lower() for w in temp]\n",
        "        temp = [t for t in temp if t not in nltk.corpus.stopwords.words('english')]\n",
        "        for word in temp:\n",
        "          tempf.append(stemmer.stem(word))\n",
        "        processed_data.append(tempf)\n",
        "    return processed_data"
      ],
      "execution_count": 3,
      "outputs": []
    },
    {
      "cell_type": "code",
      "metadata": {
        "id": "g6cewphN-L8D",
        "colab": {
          "base_uri": "https://localhost:8080/"
        },
        "outputId": "9d5a8a9d-f981-45d3-da00-ee197a728795"
      },
      "source": [
        "\n",
        "headlines = preprocess_docs(headlines)\n",
        "short_desc = preprocess_docs(short_desc)\n",
        "\n",
        "print(headlines[781])\n",
        "print(short_desc[781])"
      ],
      "execution_count": 7,
      "outputs": [
        {
          "output_type": "stream",
          "text": [
            "['jama', 'ophthalmolog']\n",
            "['jama', 'ophthalmolog', 'publish', 'continu', 'sinc', '1869', 'intern', 'peerreview', 'ophthalmolog', 'visual', 'scienc', 'journal', '2019', 'journal', 'celebr', '150', 'year', 'continu', 'public', 'jama', 'ophthalmolog', 'member', 'jama', 'network', 'consortium', 'peerreview', 'gener', 'medic', 'specialti', 'public']\n"
          ],
          "name": "stdout"
        }
      ]
    },
    {
      "cell_type": "markdown",
      "metadata": {
        "id": "g6DSn0eGAkbx"
      },
      "source": [
        "# Master Dictionary - Index Construction"
      ]
    },
    {
      "cell_type": "markdown",
      "metadata": {
        "id": "79l1tb_cAqjV"
      },
      "source": [
        "Constructing Master Dictionary"
      ]
    },
    {
      "cell_type": "code",
      "metadata": {
        "id": "Xvk9yPILAuEt"
      },
      "source": [
        "\"\"\"\n",
        "example of an entry to master dictionary\n",
        "master_dict = \n",
        "{\n",
        "  'dog':\n",
        "  {\n",
        "    doc_number:\n",
        "    {\n",
        "      'tf':10, \n",
        "      'df':15, \n",
        "      'tf-idf':0.6\n",
        "    }\n",
        "  }\n",
        "}\n",
        "\"\"\"\n",
        "\n",
        "master_dict = {}\n",
        "\n",
        "\n",
        "#construct with headlines first\n",
        "review = headlines\n",
        "\n",
        "tf_factor = 5\n",
        "\n",
        "# updating tf using headlines with weighted tf\n",
        "for doc_num in range(len(review)):\n",
        "  curr_review = review[doc_num]\n",
        "\n",
        "  for curr_term in curr_review:\n",
        "\n",
        "    if curr_term in master_dict:\n",
        "\n",
        "      if doc_num in master_dict[curr_term]:\n",
        "        master_dict[curr_term][doc_num]['tf'] += 1*tf_factor\n",
        "      else:\n",
        "        #put the doc_id for that term in master if doc_id not present\n",
        "        master_dict[curr_term].update({doc_num:{'tf':1*tf_factor, 'df':0, 'tf-idf':0.1}})\n",
        "\n",
        "    # put the term in master\n",
        "    else:\n",
        "      master_dict.update({curr_term:{doc_num:{'tf':1*tf_factor, 'df':0, 'tf-idf':0.1}}})\n",
        "\n",
        "\n",
        "# updating tf using short description next\n",
        "review = short_desc\n",
        "for doc_num in range(len(review)):\n",
        "  curr_review = review[doc_num]\n",
        "\n",
        "  for curr_term in curr_review:\n",
        "\n",
        "    if curr_term in master_dict:\n",
        "\n",
        "      if doc_num in master_dict[curr_term]:\n",
        "        master_dict[curr_term][doc_num]['tf'] += 1\n",
        "      else:\n",
        "        #put the doc_id for that term in master if doc_id not present\n",
        "        master_dict[curr_term].update({doc_num:{'tf':1, 'df':0, 'tf-idf':0.1}})\n",
        "\n",
        "    # put the term in master\n",
        "    else:\n",
        "      master_dict.update({curr_term:{doc_num:{'tf':1, 'df':0, 'tf-idf':0.1}}})\n",
        "\n",
        "\n",
        "#master_dict\n",
        "print(master_dict['cancer'])\n",
        " "
      ],
      "execution_count": null,
      "outputs": []
    },
    {
      "cell_type": "markdown",
      "metadata": {
        "id": "6NuBhY1fBJpl"
      },
      "source": [
        "updating df and tf-idf values"
      ]
    },
    {
      "cell_type": "code",
      "metadata": {
        "id": "f4Cz5k9cBMfX",
        "colab": {
          "base_uri": "https://localhost:8080/",
          "height": 262
        },
        "outputId": "78239b7e-ef01-4598-af6b-a9fa264cdbd1"
      },
      "source": [
        "\n",
        "\n",
        "\n",
        "for curr_term in master_dict:\n",
        "\n",
        "  for doc_num in master_dict[curr_term]:\n",
        "\n",
        "    # len(master_dict[curr_term]) stores total doc numbers that term has or total docs in which that term present\n",
        "    master_dict[curr_term][doc_num]['df'] = len(master_dict[curr_term])\n",
        "\n",
        "    # calculates tf-idf using formula\n",
        "    master_dict[curr_term][doc_num]['tf-idf'] = (master_dict[curr_term][doc_num]['tf'])*(math.log10(total_reviews/master_dict[curr_term][doc_num]['df']))\n",
        "\n",
        "\n"
      ],
      "execution_count": 11,
      "outputs": [
        {
          "output_type": "error",
          "ename": "KeyError",
          "evalue": "ignored",
          "traceback": [
            "\u001b[0;31m---------------------------------------------------------------------------\u001b[0m",
            "\u001b[0;31mKeyError\u001b[0m                                  Traceback (most recent call last)",
            "\u001b[0;32m<ipython-input-11-946011508e56>\u001b[0m in \u001b[0;36m<module>\u001b[0;34m()\u001b[0m\n\u001b[1;32m     12\u001b[0m     \u001b[0mmaster_dict\u001b[0m\u001b[0;34m[\u001b[0m\u001b[0mcurr_term\u001b[0m\u001b[0;34m]\u001b[0m\u001b[0;34m[\u001b[0m\u001b[0mdoc_num\u001b[0m\u001b[0;34m]\u001b[0m\u001b[0;34m[\u001b[0m\u001b[0;34m'tf-idf'\u001b[0m\u001b[0;34m]\u001b[0m \u001b[0;34m=\u001b[0m \u001b[0;34m(\u001b[0m\u001b[0mmaster_dict\u001b[0m\u001b[0;34m[\u001b[0m\u001b[0mcurr_term\u001b[0m\u001b[0;34m]\u001b[0m\u001b[0;34m[\u001b[0m\u001b[0mdoc_num\u001b[0m\u001b[0;34m]\u001b[0m\u001b[0;34m[\u001b[0m\u001b[0;34m'tf'\u001b[0m\u001b[0;34m]\u001b[0m\u001b[0;34m)\u001b[0m\u001b[0;34m*\u001b[0m\u001b[0;34m(\u001b[0m\u001b[0mmath\u001b[0m\u001b[0;34m.\u001b[0m\u001b[0mlog10\u001b[0m\u001b[0;34m(\u001b[0m\u001b[0mtotal_reviews\u001b[0m\u001b[0;34m/\u001b[0m\u001b[0mmaster_dict\u001b[0m\u001b[0;34m[\u001b[0m\u001b[0mcurr_term\u001b[0m\u001b[0;34m]\u001b[0m\u001b[0;34m[\u001b[0m\u001b[0mdoc_num\u001b[0m\u001b[0;34m]\u001b[0m\u001b[0;34m[\u001b[0m\u001b[0;34m'df'\u001b[0m\u001b[0;34m]\u001b[0m\u001b[0;34m)\u001b[0m\u001b[0;34m)\u001b[0m\u001b[0;34m\u001b[0m\u001b[0;34m\u001b[0m\u001b[0m\n\u001b[1;32m     13\u001b[0m \u001b[0;34m\u001b[0m\u001b[0m\n\u001b[0;32m---> 14\u001b[0;31m \u001b[0mprint\u001b[0m\u001b[0;34m(\u001b[0m\u001b[0mmaster_dict\u001b[0m\u001b[0;34m[\u001b[0m\u001b[0;34m'biology'\u001b[0m\u001b[0;34m]\u001b[0m\u001b[0;34m)\u001b[0m\u001b[0;34m\u001b[0m\u001b[0;34m\u001b[0m\u001b[0m\n\u001b[0m\u001b[1;32m     15\u001b[0m \u001b[0;34m\u001b[0m\u001b[0m\n\u001b[1;32m     16\u001b[0m \u001b[0;31m#total unique words in corpus\u001b[0m\u001b[0;34m\u001b[0m\u001b[0;34m\u001b[0m\u001b[0;34m\u001b[0m\u001b[0m\n",
            "\u001b[0;31mKeyError\u001b[0m: 'biology'"
          ]
        }
      ]
    },
    {
      "cell_type": "markdown",
      "metadata": {
        "id": "XOWxyZnABcxM"
      },
      "source": [
        "L2 Norm Normalisation of tf-idf"
      ]
    },
    {
      "cell_type": "code",
      "metadata": {
        "id": "9b0NTy-RBjqu"
      },
      "source": [
        "norm_factor = {}\n",
        "\n",
        "for curr_term in master_dict:\n",
        "\n",
        "  for doc_num in master_dict[curr_term]:\n",
        "\n",
        "    if doc_num in norm_factor:\n",
        "      norm_factor[doc_num] += master_dict[curr_term][doc_num]['tf-idf']*master_dict[curr_term][doc_num]['tf-idf']\n",
        "    else:\n",
        "      norm_factor.update({doc_num: 0.2})\n",
        "      norm_factor[doc_num] = master_dict[curr_term][doc_num]['tf-idf']*master_dict[curr_term][doc_num]['tf-idf']\n",
        "\n",
        "# square root the norm factors\n",
        "\n",
        "for doc_num in norm_factor:\n",
        "  norm_factor[doc_num] = math.sqrt(norm_factor[doc_num])\n",
        "\n",
        "# normalise tf-idf of master dictionary\n",
        "\n",
        "for curr_term in master_dict:\n",
        "\n",
        "  for doc_num in master_dict[curr_term]:\n",
        "\n",
        "    master_dict[curr_term][doc_num]['tf-idf'] = master_dict[curr_term][doc_num]['tf-idf']/norm_factor[doc_num]\n",
        "\n"
      ],
      "execution_count": 12,
      "outputs": []
    },
    {
      "cell_type": "code",
      "metadata": {
        "colab": {
          "base_uri": "https://localhost:8080/"
        },
        "id": "7yX1VcN0myT1",
        "outputId": "1f419d4d-5647-4a9d-eb5e-af0844bcf408"
      },
      "source": [
        "print(master_dict['cancer'])\n",
        "\n",
        "#total unique words in corpus\n",
        "print(len(master_dict))"
      ],
      "execution_count": 13,
      "outputs": [
        {
          "output_type": "stream",
          "text": [
            "{0: {'tf': 11, 'df': 495, 'tf-idf': 0.7001447668840078}, 9: {'tf': 7, 'df': 495, 'tf-idf': 0.6758749980547284}, 50: {'tf': 12, 'df': 495, 'tf-idf': 0.7801909034961719}, 136: {'tf': 8, 'df': 495, 'tf-idf': 0.7199476832629027}, 255: {'tf': 8, 'df': 495, 'tf-idf': 0.6332248202179284}, 264: {'tf': 7, 'df': 495, 'tf-idf': 0.47252204973718676}, 310: {'tf': 13, 'df': 495, 'tf-idf': 0.632868768544402}, 312: {'tf': 13, 'df': 495, 'tf-idf': 0.7492354203692209}, 358: {'tf': 9, 'df': 495, 'tf-idf': 0.4290672422622632}, 373: {'tf': 8, 'df': 495, 'tf-idf': 0.7625515090956372}, 391: {'tf': 8, 'df': 495, 'tf-idf': 0.6655585542935982}, 468: {'tf': 9, 'df': 495, 'tf-idf': 0.5909866062186152}, 492: {'tf': 7, 'df': 495, 'tf-idf': 0.374800006597582}, 512: {'tf': 8, 'df': 495, 'tf-idf': 0.5722886139707346}, 517: {'tf': 5, 'df': 495, 'tf-idf': 0.20025669085783512}, 528: {'tf': 7, 'df': 495, 'tf-idf': 0.6582763290530127}, 642: {'tf': 11, 'df': 495, 'tf-idf': 0.7377017935499602}, 694: {'tf': 6, 'df': 495, 'tf-idf': 0.4750243336086183}, 724: {'tf': 10, 'df': 495, 'tf-idf': 0.5304928557907127}, 737: {'tf': 9, 'df': 495, 'tf-idf': 0.445880622273723}, 743: {'tf': 10, 'df': 495, 'tf-idf': 0.47399217272712446}, 878: {'tf': 9, 'df': 495, 'tf-idf': 0.41142411016716607}, 926: {'tf': 10, 'df': 495, 'tf-idf': 0.6483023290635636}, 940: {'tf': 9, 'df': 495, 'tf-idf': 0.7276526557154844}, 960: {'tf': 8, 'df': 495, 'tf-idf': 0.5029519912929276}, 974: {'tf': 9, 'df': 495, 'tf-idf': 0.580513209509373}, 992: {'tf': 10, 'df': 495, 'tf-idf': 0.7660875149858758}, 1152: {'tf': 13, 'df': 495, 'tf-idf': 0.8481415811675075}, 1178: {'tf': 10, 'df': 495, 'tf-idf': 0.700855799356922}, 1286: {'tf': 10, 'df': 495, 'tf-idf': 0.5530979123629493}, 1367: {'tf': 6, 'df': 495, 'tf-idf': 0.39772945698844236}, 1387: {'tf': 7, 'df': 495, 'tf-idf': 0.49960776572285587}, 1404: {'tf': 11, 'df': 495, 'tf-idf': 0.80338770686374}, 1433: {'tf': 9, 'df': 495, 'tf-idf': 0.4923539217672583}, 1489: {'tf': 10, 'df': 495, 'tf-idf': 0.7004484323618722}, 1534: {'tf': 10, 'df': 495, 'tf-idf': 0.24272819950239977}, 1768: {'tf': 7, 'df': 495, 'tf-idf': 0.45321600096162273}, 1895: {'tf': 7, 'df': 495, 'tf-idf': 0.45430494151235945}, 1974: {'tf': 13, 'df': 495, 'tf-idf': 0.5557709488559442}, 2072: {'tf': 5, 'df': 495, 'tf-idf': 0.7495884485157057}, 2109: {'tf': 10, 'df': 495, 'tf-idf': 0.4186681670303904}, 2247: {'tf': 7, 'df': 495, 'tf-idf': 0.8325241534639836}, 2259: {'tf': 12, 'df': 495, 'tf-idf': 0.41946730596407994}, 2349: {'tf': 6, 'df': 495, 'tf-idf': 0.5371955079497505}, 2405: {'tf': 10, 'df': 495, 'tf-idf': 0.7252228054692278}, 2439: {'tf': 7, 'df': 495, 'tf-idf': 0.874549184705575}, 2476: {'tf': 10, 'df': 495, 'tf-idf': 0.5210493382891557}, 2486: {'tf': 10, 'df': 495, 'tf-idf': 0.5051901650525342}, 2604: {'tf': 9, 'df': 495, 'tf-idf': 0.6374094702674935}, 2622: {'tf': 8, 'df': 495, 'tf-idf': 0.4172877191936678}, 2684: {'tf': 12, 'df': 495, 'tf-idf': 0.7907744642048874}, 2746: {'tf': 13, 'df': 495, 'tf-idf': 0.609100240081193}, 2788: {'tf': 8, 'df': 495, 'tf-idf': 0.44836405629247017}, 2817: {'tf': 11, 'df': 495, 'tf-idf': 0.1555046167760833}, 2867: {'tf': 8, 'df': 495, 'tf-idf': 0.5537605094721428}, 2897: {'tf': 10, 'df': 495, 'tf-idf': 0.5003677127653312}, 2915: {'tf': 7, 'df': 495, 'tf-idf': 0.5288873442712985}, 2928: {'tf': 9, 'df': 495, 'tf-idf': 0.45739698586640204}, 3081: {'tf': 7, 'df': 495, 'tf-idf': 0.4113033389047616}, 3116: {'tf': 10, 'df': 495, 'tf-idf': 0.662846289097297}, 3316: {'tf': 8, 'df': 495, 'tf-idf': 0.6436231515206957}, 3395: {'tf': 8, 'df': 495, 'tf-idf': 0.6208603911912686}, 3511: {'tf': 7, 'df': 495, 'tf-idf': 0.4256163129147814}, 3517: {'tf': 11, 'df': 495, 'tf-idf': 0.5449135779754053}, 3519: {'tf': 8, 'df': 495, 'tf-idf': 0.8854202600772998}, 3635: {'tf': 7, 'df': 495, 'tf-idf': 0.6170022694741487}, 3668: {'tf': 6, 'df': 495, 'tf-idf': 0.3544387217883721}, 3790: {'tf': 6, 'df': 495, 'tf-idf': 0.31129514308856915}, 3932: {'tf': 9, 'df': 495, 'tf-idf': 0.6188723136247899}, 3936: {'tf': 7, 'df': 495, 'tf-idf': 0.3470898987652943}, 3964: {'tf': 5, 'df': 495, 'tf-idf': 0.6770643820889691}, 3969: {'tf': 11, 'df': 495, 'tf-idf': 0.6361333179922944}, 4070: {'tf': 9, 'df': 495, 'tf-idf': 0.4468395876608126}, 4258: {'tf': 7, 'df': 495, 'tf-idf': 0.4341031060842211}, 4437: {'tf': 8, 'df': 495, 'tf-idf': 0.5724804917903101}, 4522: {'tf': 9, 'df': 495, 'tf-idf': 0.42274809092695104}, 4635: {'tf': 18, 'df': 495, 'tf-idf': 0.6716247938774295}, 4750: {'tf': 6, 'df': 495, 'tf-idf': 0.4295643158945173}, 4807: {'tf': 12, 'df': 495, 'tf-idf': 0.4197565675381843}, 4856: {'tf': 14, 'df': 495, 'tf-idf': 0.633336411569135}, 4892: {'tf': 12, 'df': 495, 'tf-idf': 0.6983942118886954}, 4945: {'tf': 10, 'df': 495, 'tf-idf': 0.5154596327828324}, 5091: {'tf': 11, 'df': 495, 'tf-idf': 0.47771553930150956}, 5102: {'tf': 7, 'df': 495, 'tf-idf': 0.5804148648280819}, 5117: {'tf': 8, 'df': 495, 'tf-idf': 0.5111219714126298}, 5118: {'tf': 9, 'df': 495, 'tf-idf': 0.4551197444061893}, 5234: {'tf': 13, 'df': 495, 'tf-idf': 0.4774844238503144}, 5260: {'tf': 9, 'df': 495, 'tf-idf': 0.6287407499910139}, 5266: {'tf': 7, 'df': 495, 'tf-idf': 0.4434058048404861}, 5499: {'tf': 13, 'df': 495, 'tf-idf': 0.7280059552782252}, 5576: {'tf': 15, 'df': 495, 'tf-idf': 0.6061146093278116}, 5671: {'tf': 13, 'df': 495, 'tf-idf': 0.681268959581957}, 5945: {'tf': 8, 'df': 495, 'tf-idf': 0.5888177941882042}, 6096: {'tf': 10, 'df': 495, 'tf-idf': 0.7123424927276956}, 6442: {'tf': 11, 'df': 495, 'tf-idf': 0.3892820362481449}, 6446: {'tf': 11, 'df': 495, 'tf-idf': 0.6922430747607026}, 6797: {'tf': 6, 'df': 495, 'tf-idf': 0.3487831414338527}, 6879: {'tf': 12, 'df': 495, 'tf-idf': 0.494647272284961}, 6939: {'tf': 7, 'df': 495, 'tf-idf': 0.46229003963077175}, 7099: {'tf': 17, 'df': 495, 'tf-idf': 0.6334803786423495}, 7605: {'tf': 6, 'df': 495, 'tf-idf': 0.4966499032577867}, 8078: {'tf': 19, 'df': 495, 'tf-idf': 0.8708560216236048}, 8599: {'tf': 7, 'df': 495, 'tf-idf': 0.4954387943802318}, 8807: {'tf': 17, 'df': 495, 'tf-idf': 0.7408480774941313}, 9096: {'tf': 11, 'df': 495, 'tf-idf': 0.3694187753431705}, 9370: {'tf': 7, 'df': 495, 'tf-idf': 0.6747028669966755}, 9422: {'tf': 7, 'df': 495, 'tf-idf': 0.7472958388101976}, 9450: {'tf': 6, 'df': 495, 'tf-idf': 0.4261561583848234}, 9752: {'tf': 14, 'df': 495, 'tf-idf': 0.5747561650505988}, 10511: {'tf': 6, 'df': 495, 'tf-idf': 0.38764443145191857}, 10544: {'tf': 5, 'df': 495, 'tf-idf': 0.5473418489708569}, 10979: {'tf': 5, 'df': 495, 'tf-idf': 0.30299591263177944}, 11843: {'tf': 6, 'df': 495, 'tf-idf': 0.4649701349317295}, 11868: {'tf': 10, 'df': 495, 'tf-idf': 0.5527610472628004}, 12129: {'tf': 10, 'df': 495, 'tf-idf': 0.4080740785385515}, 13083: {'tf': 6, 'df': 495, 'tf-idf': 0.19140338532117293}, 14028: {'tf': 5, 'df': 495, 'tf-idf': 0.7643573387540799}, 14233: {'tf': 10, 'df': 495, 'tf-idf': 0.5540865097100994}, 14448: {'tf': 7, 'df': 495, 'tf-idf': 0.4559012944831274}, 15177: {'tf': 12, 'df': 495, 'tf-idf': 0.8415164766593382}, 15364: {'tf': 5, 'df': 495, 'tf-idf': 0.18871445278696086}, 15936: {'tf': 7, 'df': 495, 'tf-idf': 0.5700711996535716}, 15963: {'tf': 13, 'df': 495, 'tf-idf': 0.6481407777565027}, 16915: {'tf': 10, 'df': 495, 'tf-idf': 0.7464156801467047}, 18672: {'tf': 8, 'df': 495, 'tf-idf': 0.3864768451489244}, 19018: {'tf': 7, 'df': 495, 'tf-idf': 0.5691032651330976}, 19033: {'tf': 5, 'df': 495, 'tf-idf': 0.9539605163120546}, 19553: {'tf': 7, 'df': 495, 'tf-idf': 0.46018974747932667}, 19932: {'tf': 9, 'df': 495, 'tf-idf': 0.5040636054361176}, 21563: {'tf': 9, 'df': 495, 'tf-idf': 0.7356256252333104}, 21685: {'tf': 14, 'df': 495, 'tf-idf': 0.8878485185753415}, 22481: {'tf': 5, 'df': 495, 'tf-idf': 0.24468302756220014}, 23688: {'tf': 7, 'df': 495, 'tf-idf': 0.6358482204259759}, 23708: {'tf': 8, 'df': 495, 'tf-idf': 0.647748900347215}, 24236: {'tf': 5, 'df': 495, 'tf-idf': 0.3692086365805687}, 25438: {'tf': 5, 'df': 495, 'tf-idf': 0.4505002209382375}, 25811: {'tf': 13, 'df': 495, 'tf-idf': 0.509144135235095}, 26068: {'tf': 5, 'df': 495, 'tf-idf': 0.5034703796911664}, 26265: {'tf': 7, 'df': 495, 'tf-idf': 0.3894163854290729}, 26447: {'tf': 12, 'df': 495, 'tf-idf': 0.6154218181171467}, 26678: {'tf': 8, 'df': 495, 'tf-idf': 0.44410814041870783}, 6: {'tf': 1, 'df': 495, 'tf-idf': 0.03999196945472742}, 7: {'tf': 1, 'df': 495, 'tf-idf': 0.10209206709944}, 15: {'tf': 1, 'df': 495, 'tf-idf': 0.06644428330534767}, 22: {'tf': 10, 'df': 495, 'tf-idf': 0.5067030485853921}, 33: {'tf': 1, 'df': 495, 'tf-idf': 0.08620598244535205}, 59: {'tf': 1, 'df': 495, 'tf-idf': 0.0436340157421049}, 67: {'tf': 1, 'df': 495, 'tf-idf': 0.09387610482851019}, 70: {'tf': 1, 'df': 495, 'tf-idf': 0.06435092518417783}, 79: {'tf': 1, 'df': 495, 'tf-idf': 0.028082294534657617}, 110: {'tf': 1, 'df': 495, 'tf-idf': 0.06272866839021603}, 128: {'tf': 3, 'df': 495, 'tf-idf': 0.1669366178099999}, 153: {'tf': 1, 'df': 495, 'tf-idf': 0.05687213599496304}, 154: {'tf': 1, 'df': 495, 'tf-idf': 0.08597829320074413}, 182: {'tf': 1, 'df': 495, 'tf-idf': 0.07949094476821364}, 192: {'tf': 1, 'df': 495, 'tf-idf': 0.08387576041622945}, 195: {'tf': 1, 'df': 495, 'tf-idf': 0.04754296799687609}, 197: {'tf': 1, 'df': 495, 'tf-idf': 0.057892264221391376}, 208: {'tf': 1, 'df': 495, 'tf-idf': 0.0377489655748203}, 254: {'tf': 1, 'df': 495, 'tf-idf': 0.08568116214854422}, 257: {'tf': 1, 'df': 495, 'tf-idf': 0.04732804478314144}, 266: {'tf': 1, 'df': 495, 'tf-idf': 0.043179508798745485}, 399: {'tf': 2, 'df': 495, 'tf-idf': 0.0944665475798433}, 421: {'tf': 1, 'df': 495, 'tf-idf': 0.060361071688213405}, 426: {'tf': 1, 'df': 495, 'tf-idf': 0.04933714453659677}, 436: {'tf': 1, 'df': 495, 'tf-idf': 0.061775239586983936}, 488: {'tf': 1, 'df': 495, 'tf-idf': 0.06461356713096869}, 493: {'tf': 1, 'df': 495, 'tf-idf': 0.046274554703187594}, 575: {'tf': 1, 'df': 495, 'tf-idf': 0.05768312269008713}, 583: {'tf': 3, 'df': 495, 'tf-idf': 0.22554254991308756}, 589: {'tf': 1, 'df': 495, 'tf-idf': 0.05635745620314582}, 599: {'tf': 1, 'df': 495, 'tf-idf': 0.03012952763771931}, 626: {'tf': 1, 'df': 495, 'tf-idf': 0.09375673176411937}, 640: {'tf': 1, 'df': 495, 'tf-idf': 0.06253647421341492}, 713: {'tf': 1, 'df': 495, 'tf-idf': 0.06605109926714063}, 799: {'tf': 1, 'df': 495, 'tf-idf': 0.05772705587560871}, 827: {'tf': 1, 'df': 495, 'tf-idf': 0.06429021654535964}, 829: {'tf': 1, 'df': 495, 'tf-idf': 0.04683016911479662}, 839: {'tf': 3, 'df': 495, 'tf-idf': 0.2530916936206203}, 853: {'tf': 2, 'df': 495, 'tf-idf': 0.0889344778196151}, 882: {'tf': 1, 'df': 495, 'tf-idf': 0.024310445773131815}, 905: {'tf': 1, 'df': 495, 'tf-idf': 0.05820626246726951}, 925: {'tf': 1, 'df': 495, 'tf-idf': 0.060569738569429}, 928: {'tf': 4, 'df': 495, 'tf-idf': 0.14938217441015667}, 931: {'tf': 1, 'df': 495, 'tf-idf': 0.06397036893201347}, 934: {'tf': 1, 'df': 495, 'tf-idf': 0.09965112353396077}, 955: {'tf': 2, 'df': 495, 'tf-idf': 0.09875748127017933}, 1032: {'tf': 1, 'df': 495, 'tf-idf': 0.09103931639600597}, 1052: {'tf': 6, 'df': 495, 'tf-idf': 0.35187573755467555}, 1092: {'tf': 1, 'df': 495, 'tf-idf': 0.06504642325824776}, 1116: {'tf': 1, 'df': 495, 'tf-idf': 0.03881614688244703}, 1128: {'tf': 1, 'df': 495, 'tf-idf': 0.04717159805334445}, 1144: {'tf': 4, 'df': 495, 'tf-idf': 0.20283423055183686}, 1166: {'tf': 1, 'df': 495, 'tf-idf': 0.07596173164649538}, 1168: {'tf': 1, 'df': 495, 'tf-idf': 0.04846469797606078}, 1186: {'tf': 3, 'df': 495, 'tf-idf': 0.16039171048353332}, 1207: {'tf': 2, 'df': 495, 'tf-idf': 0.10945773796966021}, 1222: {'tf': 1, 'df': 495, 'tf-idf': 0.057323704883969435}, 1264: {'tf': 1, 'df': 495, 'tf-idf': 0.06488281584554546}, 1293: {'tf': 1, 'df': 495, 'tf-idf': 0.04022779133069503}, 1296: {'tf': 1, 'df': 495, 'tf-idf': 0.028821906728817664}, 1309: {'tf': 1, 'df': 495, 'tf-idf': 0.034843579347408976}, 1314: {'tf': 1, 'df': 495, 'tf-idf': 0.08374025557182072}, 1317: {'tf': 1, 'df': 495, 'tf-idf': 0.04350298779183639}, 1339: {'tf': 2, 'df': 495, 'tf-idf': 0.10053633472651562}, 1341: {'tf': 2, 'df': 495, 'tf-idf': 0.09141499805628578}, 1373: {'tf': 1, 'df': 495, 'tf-idf': 0.06443992754163701}, 1453: {'tf': 1, 'df': 495, 'tf-idf': 0.06257391638997677}, 1545: {'tf': 5, 'df': 495, 'tf-idf': 0.2445141867254762}, 1573: {'tf': 1, 'df': 495, 'tf-idf': 0.062306948610148176}, 1576: {'tf': 1, 'df': 495, 'tf-idf': 0.070543532798181}, 1630: {'tf': 1, 'df': 495, 'tf-idf': 0.06457478866788548}, 1659: {'tf': 3, 'df': 495, 'tf-idf': 0.1992746248691256}, 1669: {'tf': 1, 'df': 495, 'tf-idf': 0.09490359505775435}, 1675: {'tf': 1, 'df': 495, 'tf-idf': 0.06696239776937984}, 1677: {'tf': 1, 'df': 495, 'tf-idf': 0.036403381474367336}, 1713: {'tf': 1, 'df': 495, 'tf-idf': 0.04909160766447619}, 1822: {'tf': 1, 'df': 495, 'tf-idf': 0.055442922888517696}, 1840: {'tf': 1, 'df': 495, 'tf-idf': 0.0636098671477679}, 1852: {'tf': 7, 'df': 495, 'tf-idf': 0.3818363841448629}, 1866: {'tf': 2, 'df': 495, 'tf-idf': 0.16933611160070194}, 1877: {'tf': 1, 'df': 495, 'tf-idf': 0.049774457756280754}, 1883: {'tf': 1, 'df': 495, 'tf-idf': 0.08241118678619862}, 1903: {'tf': 1, 'df': 495, 'tf-idf': 0.03389993185896348}, 1976: {'tf': 1, 'df': 495, 'tf-idf': 0.04545280380790833}, 2049: {'tf': 1, 'df': 495, 'tf-idf': 0.048074003128813825}, 2054: {'tf': 1, 'df': 495, 'tf-idf': 0.03996066391092109}, 2065: {'tf': 1, 'df': 495, 'tf-idf': 0.037777598310299684}, 2080: {'tf': 1, 'df': 495, 'tf-idf': 0.04813187376071548}, 2097: {'tf': 1, 'df': 495, 'tf-idf': 0.041554084557234194}, 2137: {'tf': 1, 'df': 495, 'tf-idf': 0.07617625834973561}, 2191: {'tf': 1, 'df': 495, 'tf-idf': 0.056880387507578796}, 2242: {'tf': 1, 'df': 495, 'tf-idf': 0.08096149985281387}, 2250: {'tf': 2, 'df': 495, 'tf-idf': 0.17430136734027582}, 2382: {'tf': 2, 'df': 495, 'tf-idf': 0.1197750909968886}, 2423: {'tf': 1, 'df': 495, 'tf-idf': 0.06484479154815787}, 2504: {'tf': 1, 'df': 495, 'tf-idf': 0.04049483552231071}, 2532: {'tf': 1, 'df': 495, 'tf-idf': 0.04479430894197633}, 2549: {'tf': 1, 'df': 495, 'tf-idf': 0.06290770528872804}, 2554: {'tf': 1, 'df': 495, 'tf-idf': 0.06346212464884109}, 2589: {'tf': 1, 'df': 495, 'tf-idf': 0.05195644216560514}, 2600: {'tf': 1, 'df': 495, 'tf-idf': 0.034287989457322525}, 2616: {'tf': 1, 'df': 495, 'tf-idf': 0.06497679956871869}, 2637: {'tf': 1, 'df': 495, 'tf-idf': 0.032337298019423366}, 2686: {'tf': 1, 'df': 495, 'tf-idf': 0.044770290112241526}, 2694: {'tf': 1, 'df': 495, 'tf-idf': 0.05764232958013748}, 2713: {'tf': 1, 'df': 495, 'tf-idf': 0.06566099605452456}, 2798: {'tf': 1, 'df': 495, 'tf-idf': 0.07311936877045525}, 2829: {'tf': 2, 'df': 495, 'tf-idf': 0.13301349881549973}, 2931: {'tf': 1, 'df': 495, 'tf-idf': 0.06384428380009893}, 2949: {'tf': 3, 'df': 495, 'tf-idf': 0.23137196325656992}, 2955: {'tf': 1, 'df': 495, 'tf-idf': 0.08805561409054917}, 2971: {'tf': 3, 'df': 495, 'tf-idf': 0.1911477333059699}, 2982: {'tf': 1, 'df': 495, 'tf-idf': 0.04624779904660513}, 2983: {'tf': 2, 'df': 495, 'tf-idf': 0.16710849317676285}, 3000: {'tf': 1, 'df': 495, 'tf-idf': 0.07889863163522678}, 3130: {'tf': 2, 'df': 495, 'tf-idf': 0.1108008375261279}, 3131: {'tf': 1, 'df': 495, 'tf-idf': 0.05806464893814631}, 3167: {'tf': 3, 'df': 495, 'tf-idf': 0.11684584688091959}, 3171: {'tf': 4, 'df': 495, 'tf-idf': 0.20480175823362431}, 3187: {'tf': 1, 'df': 495, 'tf-idf': 0.04376586629372781}, 3202: {'tf': 3, 'df': 495, 'tf-idf': 0.16163043536244798}, 3313: {'tf': 1, 'df': 495, 'tf-idf': 0.09241503637951085}, 3357: {'tf': 1, 'df': 495, 'tf-idf': 0.06419377002446829}, 3422: {'tf': 1, 'df': 495, 'tf-idf': 0.07654245657739507}, 3427: {'tf': 1, 'df': 495, 'tf-idf': 0.05076398815650673}, 3437: {'tf': 1, 'df': 495, 'tf-idf': 0.10055708904811146}, 3446: {'tf': 1, 'df': 495, 'tf-idf': 0.04113309528894084}, 3582: {'tf': 1, 'df': 495, 'tf-idf': 0.05179727024861377}, 3623: {'tf': 5, 'df': 495, 'tf-idf': 0.21134459075407713}, 3629: {'tf': 2, 'df': 495, 'tf-idf': 0.20378003771572845}, 3722: {'tf': 1, 'df': 495, 'tf-idf': 0.08314373736772714}, 3723: {'tf': 2, 'df': 495, 'tf-idf': 0.07687826708054704}, 3737: {'tf': 3, 'df': 495, 'tf-idf': 0.3012614024611778}, 3751: {'tf': 1, 'df': 495, 'tf-idf': 0.022142785036605456}, 3784: {'tf': 1, 'df': 495, 'tf-idf': 0.07114358123471703}, 3786: {'tf': 1, 'df': 495, 'tf-idf': 0.038924867822970236}, 3792: {'tf': 1, 'df': 495, 'tf-idf': 0.029074690321740117}, 3849: {'tf': 3, 'df': 495, 'tf-idf': 0.26260419168920873}, 3904: {'tf': 1, 'df': 495, 'tf-idf': 0.05232898742750897}, 4003: {'tf': 1, 'df': 495, 'tf-idf': 0.06441518880986223}, 4005: {'tf': 1, 'df': 495, 'tf-idf': 0.05357503386300581}, 4056: {'tf': 1, 'df': 495, 'tf-idf': 0.034678142926261354}, 4064: {'tf': 1, 'df': 495, 'tf-idf': 0.061002865457062475}, 4069: {'tf': 1, 'df': 495, 'tf-idf': 0.0688478171645416}, 4110: {'tf': 2, 'df': 495, 'tf-idf': 0.0963314333237574}, 4118: {'tf': 4, 'df': 495, 'tf-idf': 0.2573701048987985}, 4133: {'tf': 1, 'df': 495, 'tf-idf': 0.04426953918390265}, 4139: {'tf': 1, 'df': 495, 'tf-idf': 0.0710636077643449}, 4160: {'tf': 1, 'df': 495, 'tf-idf': 0.025420577466120933}, 4175: {'tf': 1, 'df': 495, 'tf-idf': 0.04527729178175087}, 4220: {'tf': 3, 'df': 495, 'tf-idf': 0.12624946151428806}, 4223: {'tf': 1, 'df': 495, 'tf-idf': 0.03612581233500387}, 4224: {'tf': 1, 'df': 495, 'tf-idf': 0.06525444612026388}, 4345: {'tf': 1, 'df': 495, 'tf-idf': 0.0404881909225231}, 4366: {'tf': 1, 'df': 495, 'tf-idf': 0.05745273784523867}, 4397: {'tf': 1, 'df': 495, 'tf-idf': 0.04613494220675583}, 4418: {'tf': 1, 'df': 495, 'tf-idf': 0.059479535108145264}, 4488: {'tf': 2, 'df': 495, 'tf-idf': 0.1062957021581529}, 4578: {'tf': 4, 'df': 495, 'tf-idf': 0.16627395871782988}, 4606: {'tf': 3, 'df': 495, 'tf-idf': 0.16987594263557335}, 4608: {'tf': 1, 'df': 495, 'tf-idf': 0.03066394007717666}, 4617: {'tf': 1, 'df': 495, 'tf-idf': 0.03817199644470181}, 4641: {'tf': 4, 'df': 495, 'tf-idf': 0.17125434634735684}, 4668: {'tf': 9, 'df': 495, 'tf-idf': 0.2829641006168004}, 4689: {'tf': 1, 'df': 495, 'tf-idf': 0.05672056526930358}, 4770: {'tf': 6, 'df': 495, 'tf-idf': 0.4915382586707498}, 4800: {'tf': 5, 'df': 495, 'tf-idf': 0.381443110619356}, 4829: {'tf': 1, 'df': 495, 'tf-idf': 0.05868293404930838}, 4835: {'tf': 1, 'df': 495, 'tf-idf': 0.06333522060089632}, 4840: {'tf': 2, 'df': 495, 'tf-idf': 0.07395136241029694}, 4924: {'tf': 3, 'df': 495, 'tf-idf': 0.14164228857269096}, 4962: {'tf': 1, 'df': 495, 'tf-idf': 0.032122022617299684}, 5001: {'tf': 2, 'df': 495, 'tf-idf': 0.1159661577779071}, 5035: {'tf': 4, 'df': 495, 'tf-idf': 0.24473348746290005}, 5043: {'tf': 1, 'df': 495, 'tf-idf': 0.045064900813504394}, 5187: {'tf': 2, 'df': 495, 'tf-idf': 0.13491506648766366}, 5197: {'tf': 1, 'df': 495, 'tf-idf': 0.10663921769137721}, 5248: {'tf': 2, 'df': 495, 'tf-idf': 0.09124921853144433}, 5268: {'tf': 1, 'df': 495, 'tf-idf': 0.06124183421165775}, 5352: {'tf': 1, 'df': 495, 'tf-idf': 0.0452067091714521}, 5438: {'tf': 1, 'df': 495, 'tf-idf': 0.05604851510705342}, 5473: {'tf': 1, 'df': 495, 'tf-idf': 0.04974520989083893}, 5549: {'tf': 1, 'df': 495, 'tf-idf': 0.10086119579270371}, 5568: {'tf': 1, 'df': 495, 'tf-idf': 0.04412011356687028}, 5600: {'tf': 1, 'df': 495, 'tf-idf': 0.07446558303763781}, 5618: {'tf': 1, 'df': 495, 'tf-idf': 0.11007692676522829}, 5628: {'tf': 1, 'df': 495, 'tf-idf': 0.0962712476675969}, 5635: {'tf': 4, 'df': 495, 'tf-idf': 0.28211542775556864}, 5668: {'tf': 2, 'df': 495, 'tf-idf': 0.09745194053868818}, 5670: {'tf': 2, 'df': 495, 'tf-idf': 0.0806383891377743}, 5679: {'tf': 7, 'df': 495, 'tf-idf': 0.37138214407107867}, 5708: {'tf': 2, 'df': 495, 'tf-idf': 0.07613885232062825}, 5778: {'tf': 1, 'df': 495, 'tf-idf': 0.05316641458163321}, 5830: {'tf': 1, 'df': 495, 'tf-idf': 0.043245006284962924}, 5919: {'tf': 1, 'df': 495, 'tf-idf': 0.05227412432921979}, 6027: {'tf': 1, 'df': 495, 'tf-idf': 0.0556607171032922}, 6082: {'tf': 1, 'df': 495, 'tf-idf': 0.04390430370941755}, 6136: {'tf': 1, 'df': 495, 'tf-idf': 0.059307346154744145}, 6137: {'tf': 1, 'df': 495, 'tf-idf': 0.05103699841188862}, 6141: {'tf': 1, 'df': 495, 'tf-idf': 0.05955171221014647}, 6186: {'tf': 1, 'df': 495, 'tf-idf': 0.07164380288899927}, 6199: {'tf': 1, 'df': 495, 'tf-idf': 0.03536308438648984}, 6238: {'tf': 1, 'df': 495, 'tf-idf': 0.046134258028079585}, 6277: {'tf': 5, 'df': 495, 'tf-idf': 0.2989140792097642}, 6315: {'tf': 1, 'df': 495, 'tf-idf': 0.042130906540139935}, 6345: {'tf': 1, 'df': 495, 'tf-idf': 0.05873527691335262}, 6400: {'tf': 1, 'df': 495, 'tf-idf': 0.022446961214552856}, 6589: {'tf': 1, 'df': 495, 'tf-idf': 0.055919434856499}, 6702: {'tf': 1, 'df': 495, 'tf-idf': 0.059997194438082276}, 6740: {'tf': 1, 'df': 495, 'tf-idf': 0.050515627189790135}, 6763: {'tf': 2, 'df': 495, 'tf-idf': 0.12581140717495062}, 6800: {'tf': 1, 'df': 495, 'tf-idf': 0.07704794347971715}, 6804: {'tf': 1, 'df': 495, 'tf-idf': 0.03951399758558588}, 6856: {'tf': 1, 'df': 495, 'tf-idf': 0.08048321114092484}, 6872: {'tf': 1, 'df': 495, 'tf-idf': 0.04603325035317659}, 6940: {'tf': 3, 'df': 495, 'tf-idf': 0.13882900988779373}, 6993: {'tf': 1, 'df': 495, 'tf-idf': 0.11297532983968347}, 7052: {'tf': 1, 'df': 495, 'tf-idf': 0.031447929303249265}, 7097: {'tf': 1, 'df': 495, 'tf-idf': 0.04461531861905308}, 7160: {'tf': 1, 'df': 495, 'tf-idf': 0.06586291769636812}, 7195: {'tf': 1, 'df': 495, 'tf-idf': 0.12269270408583259}, 7359: {'tf': 1, 'df': 495, 'tf-idf': 0.04307710429685362}, 7404: {'tf': 3, 'df': 495, 'tf-idf': 0.14026300210390993}, 7477: {'tf': 1, 'df': 495, 'tf-idf': 0.07955294450012605}, 7479: {'tf': 5, 'df': 495, 'tf-idf': 0.2168222074486392}, 7494: {'tf': 1, 'df': 495, 'tf-idf': 0.0726746178673044}, 7499: {'tf': 1, 'df': 495, 'tf-idf': 0.08189075879228563}, 7560: {'tf': 1, 'df': 495, 'tf-idf': 0.08881831265998359}, 7589: {'tf': 3, 'df': 495, 'tf-idf': 0.1447249766540896}, 7701: {'tf': 1, 'df': 495, 'tf-idf': 0.054592846970899556}, 7714: {'tf': 1, 'df': 495, 'tf-idf': 0.05471457074166156}, 7746: {'tf': 1, 'df': 495, 'tf-idf': 0.04698632462620032}, 7768: {'tf': 1, 'df': 495, 'tf-idf': 0.03786077727388198}, 7893: {'tf': 1, 'df': 495, 'tf-idf': 0.04792604709920609}, 7924: {'tf': 1, 'df': 495, 'tf-idf': 0.06362621018729456}, 7938: {'tf': 1, 'df': 495, 'tf-idf': 0.06840331817911527}, 7976: {'tf': 1, 'df': 495, 'tf-idf': 0.04572349700678387}, 7991: {'tf': 1, 'df': 495, 'tf-idf': 0.0536389538188135}, 8071: {'tf': 1, 'df': 495, 'tf-idf': 0.05918066086417144}, 8090: {'tf': 2, 'df': 495, 'tf-idf': 0.14132941183243194}, 8107: {'tf': 1, 'df': 495, 'tf-idf': 0.054979459831141414}, 8223: {'tf': 1, 'df': 495, 'tf-idf': 0.04463176020341785}, 8312: {'tf': 1, 'df': 495, 'tf-idf': 0.06334905850731955}, 8320: {'tf': 1, 'df': 495, 'tf-idf': 0.06474805689255343}, 8362: {'tf': 1, 'df': 495, 'tf-idf': 0.05780520672788002}, 8377: {'tf': 1, 'df': 495, 'tf-idf': 0.05487291878264871}, 8400: {'tf': 1, 'df': 495, 'tf-idf': 0.05983188173231681}, 8544: {'tf': 2, 'df': 495, 'tf-idf': 0.0722189683723817}, 8549: {'tf': 4, 'df': 495, 'tf-idf': 0.21484900998579168}, 8579: {'tf': 1, 'df': 495, 'tf-idf': 0.07349377998704118}, 8604: {'tf': 1, 'df': 495, 'tf-idf': 0.09071687008573523}, 8670: {'tf': 1, 'df': 495, 'tf-idf': 0.05701433350474502}, 8671: {'tf': 5, 'df': 495, 'tf-idf': 0.2855203271844425}, 8739: {'tf': 1, 'df': 495, 'tf-idf': 0.05524862968660456}, 8863: {'tf': 1, 'df': 495, 'tf-idf': 0.06540407706375799}, 8879: {'tf': 1, 'df': 495, 'tf-idf': 0.044497690778676414}, 8887: {'tf': 1, 'df': 495, 'tf-idf': 0.04902103071310205}, 8895: {'tf': 2, 'df': 495, 'tf-idf': 0.13473248023741305}, 8913: {'tf': 1, 'df': 495, 'tf-idf': 0.029890985355776282}, 9116: {'tf': 1, 'df': 495, 'tf-idf': 0.04902108874867775}, 9117: {'tf': 2, 'df': 495, 'tf-idf': 0.10157905790060849}, 9214: {'tf': 1, 'df': 495, 'tf-idf': 0.04025619642858771}, 9247: {'tf': 1, 'df': 495, 'tf-idf': 0.04488666148052944}, 9293: {'tf': 1, 'df': 495, 'tf-idf': 0.054874620771073156}, 9353: {'tf': 1, 'df': 495, 'tf-idf': 0.029483872999766358}, 9408: {'tf': 1, 'df': 495, 'tf-idf': 0.06516118214600525}, 9750: {'tf': 3, 'df': 495, 'tf-idf': 0.14003198045036577}, 10239: {'tf': 1, 'df': 495, 'tf-idf': 0.03232745188773142}, 10329: {'tf': 3, 'df': 495, 'tf-idf': 0.2357180214174983}, 10350: {'tf': 1, 'df': 495, 'tf-idf': 0.05876516361999796}, 10474: {'tf': 2, 'df': 495, 'tf-idf': 0.0905006295134957}, 10568: {'tf': 1, 'df': 495, 'tf-idf': 0.0465449787773286}, 10594: {'tf': 1, 'df': 495, 'tf-idf': 0.0802046704658398}, 10919: {'tf': 1, 'df': 495, 'tf-idf': 0.049617822123842775}, 10929: {'tf': 2, 'df': 495, 'tf-idf': 0.09347261160854588}, 10974: {'tf': 1, 'df': 495, 'tf-idf': 0.05623792435857576}, 11257: {'tf': 1, 'df': 495, 'tf-idf': 0.043203324100283956}, 11425: {'tf': 1, 'df': 495, 'tf-idf': 0.05367305209273324}, 11458: {'tf': 1, 'df': 495, 'tf-idf': 0.06967339035459061}, 11511: {'tf': 2, 'df': 495, 'tf-idf': 0.0984999760067704}, 11516: {'tf': 2, 'df': 495, 'tf-idf': 0.12094451920491718}, 11550: {'tf': 1, 'df': 495, 'tf-idf': 0.04535340729219449}, 11680: {'tf': 1, 'df': 495, 'tf-idf': 0.10871933189851271}, 11699: {'tf': 1, 'df': 495, 'tf-idf': 0.06907816290211262}, 11821: {'tf': 4, 'df': 495, 'tf-idf': 0.1680976388836642}, 11850: {'tf': 2, 'df': 495, 'tf-idf': 0.1040606210796595}, 11877: {'tf': 3, 'df': 495, 'tf-idf': 0.17805186909055631}, 11936: {'tf': 2, 'df': 495, 'tf-idf': 0.10345500486883365}, 11939: {'tf': 1, 'df': 495, 'tf-idf': 0.037883034985050065}, 12081: {'tf': 1, 'df': 495, 'tf-idf': 0.06246315696638811}, 12815: {'tf': 2, 'df': 495, 'tf-idf': 0.11746805694521795}, 12839: {'tf': 1, 'df': 495, 'tf-idf': 0.047098758906072215}, 12950: {'tf': 1, 'df': 495, 'tf-idf': 0.055973787903386404}, 12994: {'tf': 1, 'df': 495, 'tf-idf': 0.05880948856391225}, 13618: {'tf': 1, 'df': 495, 'tf-idf': 0.040561097686522496}, 13898: {'tf': 1, 'df': 495, 'tf-idf': 0.06849326568614103}, 14013: {'tf': 1, 'df': 495, 'tf-idf': 0.06659533742079969}, 14025: {'tf': 1, 'df': 495, 'tf-idf': 0.046594026562044644}, 14306: {'tf': 3, 'df': 495, 'tf-idf': 0.15937118816744505}, 14613: {'tf': 1, 'df': 495, 'tf-idf': 0.08762006063358324}, 14730: {'tf': 1, 'df': 495, 'tf-idf': 0.07325030769469038}, 14872: {'tf': 1, 'df': 495, 'tf-idf': 0.06837215958532747}, 15061: {'tf': 1, 'df': 495, 'tf-idf': 0.07299670772024332}, 15412: {'tf': 1, 'df': 495, 'tf-idf': 0.03737899625351366}, 15565: {'tf': 1, 'df': 495, 'tf-idf': 0.06013514881228271}, 16044: {'tf': 1, 'df': 495, 'tf-idf': 0.0892358690007463}, 16061: {'tf': 1, 'df': 495, 'tf-idf': 0.04425903747860942}, 16176: {'tf': 1, 'df': 495, 'tf-idf': 0.093763653912431}, 16322: {'tf': 2, 'df': 495, 'tf-idf': 0.10753220116886403}, 16652: {'tf': 1, 'df': 495, 'tf-idf': 0.05778045780819079}, 16829: {'tf': 1, 'df': 495, 'tf-idf': 0.029684800641627134}, 16995: {'tf': 4, 'df': 495, 'tf-idf': 0.266155535192835}, 17186: {'tf': 3, 'df': 495, 'tf-idf': 0.12644041413494045}, 17261: {'tf': 6, 'df': 495, 'tf-idf': 0.46692421400034645}, 17280: {'tf': 1, 'df': 495, 'tf-idf': 0.04385873379500537}, 17575: {'tf': 3, 'df': 495, 'tf-idf': 0.16774985724838254}, 17724: {'tf': 1, 'df': 495, 'tf-idf': 0.06502124303034515}, 18126: {'tf': 1, 'df': 495, 'tf-idf': 0.04690735567154723}, 18224: {'tf': 2, 'df': 495, 'tf-idf': 0.07933067449533379}, 18228: {'tf': 2, 'df': 495, 'tf-idf': 0.1372414191840818}, 18779: {'tf': 1, 'df': 495, 'tf-idf': 0.03087711663601616}, 18868: {'tf': 1, 'df': 495, 'tf-idf': 0.032857251403488906}, 19126: {'tf': 1, 'df': 495, 'tf-idf': 0.03191067755317992}, 19221: {'tf': 10, 'df': 495, 'tf-idf': 0.5015242101383631}, 19395: {'tf': 1, 'df': 495, 'tf-idf': 0.053974869753855036}, 19517: {'tf': 1, 'df': 495, 'tf-idf': 0.0548192494998467}, 19520: {'tf': 2, 'df': 495, 'tf-idf': 0.10641557549432204}, 19533: {'tf': 4, 'df': 495, 'tf-idf': 0.2343602756911786}, 20307: {'tf': 1, 'df': 495, 'tf-idf': 0.038470683807308406}, 20705: {'tf': 1, 'df': 495, 'tf-idf': 0.029996988796976484}, 20776: {'tf': 1, 'df': 495, 'tf-idf': 0.053758206437282914}, 20839: {'tf': 1, 'df': 495, 'tf-idf': 0.03389752975477124}, 20907: {'tf': 1, 'df': 495, 'tf-idf': 0.06359892134044944}, 21206: {'tf': 1, 'df': 495, 'tf-idf': 0.07906613682091429}, 21763: {'tf': 1, 'df': 495, 'tf-idf': 0.030267776602726233}, 21932: {'tf': 2, 'df': 495, 'tf-idf': 0.08471528536746441}, 22105: {'tf': 2, 'df': 495, 'tf-idf': 0.06539384245793955}, 22370: {'tf': 1, 'df': 495, 'tf-idf': 0.047000830013702165}, 22764: {'tf': 1, 'df': 495, 'tf-idf': 0.06397162183713641}, 23958: {'tf': 1, 'df': 495, 'tf-idf': 0.08088181821408735}, 24102: {'tf': 2, 'df': 495, 'tf-idf': 0.06109038467868009}, 24157: {'tf': 1, 'df': 495, 'tf-idf': 0.03731294229985524}, 24176: {'tf': 1, 'df': 495, 'tf-idf': 0.04489192088367279}, 24288: {'tf': 1, 'df': 495, 'tf-idf': 0.03572664768345631}, 24460: {'tf': 1, 'df': 495, 'tf-idf': 0.06709235783362479}, 25047: {'tf': 6, 'df': 495, 'tf-idf': 0.319511281406217}, 25129: {'tf': 1, 'df': 495, 'tf-idf': 0.06513183382000583}, 25302: {'tf': 3, 'df': 495, 'tf-idf': 0.18209610361258663}, 25550: {'tf': 1, 'df': 495, 'tf-idf': 0.036835098726560926}, 25915: {'tf': 1, 'df': 495, 'tf-idf': 0.061575377484667106}, 25975: {'tf': 2, 'df': 495, 'tf-idf': 0.0921982804334202}, 25990: {'tf': 2, 'df': 495, 'tf-idf': 0.08582972671968202}, 26403: {'tf': 1, 'df': 495, 'tf-idf': 0.047335418348787}, 26796: {'tf': 1, 'df': 495, 'tf-idf': 0.041586923464068275}}\n",
            "61566\n"
          ],
          "name": "stdout"
        }
      ]
    },
    {
      "cell_type": "markdown",
      "metadata": {
        "id": "Rs05bygEPoKH"
      },
      "source": [
        "Save my files and load"
      ]
    },
    {
      "cell_type": "code",
      "metadata": {
        "id": "LRmzMs0ePrFX"
      },
      "source": [
        "import pickle\n",
        "\n",
        "#save objects\n",
        "def store_data():\n",
        "\n",
        "  pickle_out = open(\"/content/drive/My Drive/IR Assignment/saved objects/master_dict.pickle\",\"wb\")\n",
        "  pickle.dump(master_dict, pickle_out)\n",
        "  pickle_out.close()\n",
        "\n",
        "#store_data()\n",
        "\n",
        "\n",
        "#load objects\n",
        "def load_data():\n",
        "\n",
        "  pickle_in = open(\"/content/drive/My Drive/IR Assignment/saved objects/master_dict.pickle\",\"rb\")\n",
        "  temp_master_dict = pickle.load(pickle_in)\n",
        "  pickle_in.close()\n",
        "\n",
        "  return temp_master_dict\n",
        "\n",
        "master_dict = load_data()\n",
        "\n"
      ],
      "execution_count": 4,
      "outputs": []
    },
    {
      "cell_type": "markdown",
      "metadata": {
        "id": "NwCWpyMACAEW"
      },
      "source": [
        "# Extracting results from query"
      ]
    },
    {
      "cell_type": "markdown",
      "metadata": {
        "id": "kePj6Qy-CLmh"
      },
      "source": [
        "Function to get results"
      ]
    },
    {
      "cell_type": "code",
      "metadata": {
        "id": "9LjEgHwwCRQT"
      },
      "source": [
        "def getQResults(myquery, srch_in):\n",
        "\n",
        "  sample_query = [myquery]\n",
        "\n",
        "  #preprocessing query before evaulation\n",
        "  sample_query = preprocess_docs(sample_query)\n",
        "  query = sample_query[0]\n",
        "  print(query)\n",
        "\n",
        "  query_dict = {}\n",
        "\n",
        "  for query_term in query:\n",
        "\n",
        "  # query term should be present in my master dictionary\n",
        "    if query_term in master_dict:\n",
        "\n",
        "      if query_term in query_dict:\n",
        "        query_dict[query_term]['tf'] += 1\n",
        "        query_dict[query_term]['df'] = len(master_dict[query_term])\n",
        "        query_dict[query_term]['tf-idf'] = (1+math.log10(query_dict[query_term]['tf']))*(math.log10(total_reviews/query_dict[query_term]['df']))\n",
        "      else:\n",
        "        query_dict.update({query_term:{'tf':1, 'df':0, 'tf-idf':0.1}})\n",
        "        query_dict[query_term]['df'] = len(master_dict[query_term])\n",
        "        query_dict[query_term]['tf-idf'] = (1+math.log10(query_dict[query_term]['tf']))*(math.log10(total_reviews/query_dict[query_term]['df']))\n",
        "\n",
        "\n",
        "  #normalise tf-idf for query\n",
        "  q_norm_factor = 0;\n",
        "\n",
        "  for term in query_dict:\n",
        "    q_norm_factor += query_dict[term]['tf-idf']*query_dict[term]['tf-idf']\n",
        "\n",
        "  q_norm_factor = math.sqrt(q_norm_factor)\n",
        "\n",
        "  for term in query_dict:\n",
        "    query_dict[term]['tf-idf'] = query_dict[term]['tf-idf']/q_norm_factor\n",
        "\n",
        "  \n",
        "  #calculating cosine similarity\n",
        "\n",
        "\n",
        "  result = {} #to store all the documents as result and their cosine similarity score\n",
        "\n",
        "  for query_term in query_dict:\n",
        "\n",
        "    for doc_num in master_dict[query_term]:\n",
        "\n",
        "      if doc_num in srch_in:\n",
        "\n",
        "        if doc_num in result:\n",
        "          result[doc_num] += query_dict[query_term]['tf-idf']*master_dict[query_term][doc_num]['tf-idf']\n",
        "        else:\n",
        "          result.update({doc_num: 0.1})\n",
        "          result[doc_num] = query_dict[query_term]['tf-idf']*master_dict[query_term][doc_num]['tf-idf']\n",
        "\n",
        "\n",
        "  sorted_result_lda = sorted(result.items(), key=itemgetter(1),reverse=True)\n",
        "  \n",
        "  final_list = list()\n",
        "\n",
        "  for ind in range(len(sorted_result_lda)):\n",
        "    final_list.append(sorted_result_lda[ind][0])\n",
        "\n",
        "  return final_list\n"
      ],
      "execution_count": 9,
      "outputs": []
    },
    {
      "cell_type": "code",
      "metadata": {
        "colab": {
          "base_uri": "https://localhost:8080/",
          "height": 171
        },
        "id": "iGMV7bmgpmgi",
        "outputId": "f7790256-b259-43af-daeb-9bb57d3dddee"
      },
      "source": [
        "getQResults('Nature Biology')"
      ],
      "execution_count": 7,
      "outputs": [
        {
          "output_type": "error",
          "ename": "TypeError",
          "evalue": "ignored",
          "traceback": [
            "\u001b[0;31m---------------------------------------------------------------------------\u001b[0m",
            "\u001b[0;31mTypeError\u001b[0m                                 Traceback (most recent call last)",
            "\u001b[0;32m<ipython-input-7-3bd12873e429>\u001b[0m in \u001b[0;36m<module>\u001b[0;34m()\u001b[0m\n\u001b[0;32m----> 1\u001b[0;31m \u001b[0mgetQResults\u001b[0m\u001b[0;34m(\u001b[0m\u001b[0;34m'Nature Biology'\u001b[0m\u001b[0;34m)\u001b[0m\u001b[0;34m\u001b[0m\u001b[0;34m\u001b[0m\u001b[0m\n\u001b[0m",
            "\u001b[0;31mTypeError\u001b[0m: getQResults() missing 1 required positional argument: 'srch_in'"
          ]
        }
      ]
    },
    {
      "cell_type": "markdown",
      "metadata": {
        "id": "q3aq6yaxvt8p"
      },
      "source": [
        "### Experta"
      ]
    },
    {
      "cell_type": "code",
      "metadata": {
        "colab": {
          "base_uri": "https://localhost:8080/"
        },
        "id": "uUViT2yWvwiE",
        "outputId": "7f052447-0283-48d1-dd5c-2da2617620c4"
      },
      "source": [
        "!pip install experta\n",
        "from experta import *"
      ],
      "execution_count": 10,
      "outputs": [
        {
          "output_type": "stream",
          "text": [
            "Collecting experta\n",
            "  Downloading https://files.pythonhosted.org/packages/03/5d/c06fad9dadbec34d95f548bca648ec0de2afd6f8eb2247194150ad38ee8f/experta-1.9.4-py3-none-any.whl\n",
            "Collecting schema==0.6.7\n",
            "  Downloading https://files.pythonhosted.org/packages/5d/42/32c059aa876eb16521a292e634d18f25408b2441862ff823f59af273d720/schema-0.6.7-py2.py3-none-any.whl\n",
            "Collecting frozendict==1.2\n",
            "  Downloading https://files.pythonhosted.org/packages/4e/55/a12ded2c426a4d2bee73f88304c9c08ebbdbadb82569ebdd6a0c007cfd08/frozendict-1.2.tar.gz\n",
            "Building wheels for collected packages: frozendict\n",
            "  Building wheel for frozendict (setup.py) ... \u001b[?25l\u001b[?25hdone\n",
            "  Created wheel for frozendict: filename=frozendict-1.2-cp37-none-any.whl size=3150 sha256=1a696fd74956f9ad1bb3582b5b6fc24b82c585a206fbbf2950988bc9230dc6ca\n",
            "  Stored in directory: /root/.cache/pip/wheels/6c/6c/e9/534386165bd12cf1885582c75eb6d0ffcb321b65c23fe0f834\n",
            "Successfully built frozendict\n",
            "Installing collected packages: schema, frozendict, experta\n",
            "Successfully installed experta-1.9.4 frozendict-1.2 schema-0.6.7\n"
          ],
          "name": "stdout"
        }
      ]
    },
    {
      "cell_type": "code",
      "metadata": {
        "id": "GI009Na1wJ3_"
      },
      "source": [
        "from operator import itemgetter"
      ],
      "execution_count": 11,
      "outputs": []
    },
    {
      "cell_type": "code",
      "metadata": {
        "id": "_DwWDZSkwU0d"
      },
      "source": [
        "class JournalExtractor(KnowledgeEngine):\n",
        "  @DefFacts()\n",
        "  def _initial_action(self):  \n",
        "    print(\"--Finding required Journals--\") \n",
        "    yield Fact(action=\"find_journal\")\n",
        "\n",
        "  def setAtt(self,sub,i_fac,pub,key_w):\n",
        "    self.subject = sub\n",
        "    self.i_factor = i_fac\n",
        "    self.publisher = pub\n",
        "    self.key_words = key_w\n",
        "\n",
        "  @Rule(Fact(action=\"find_journal\"), NOT(Fact(subject=W())), salience=100)\n",
        "  def input_0(self):\n",
        "    self.declare(Fact(subject=self.subject))\n",
        "\n",
        "  @Rule(Fact(action=\"find_journal\"), NOT(Fact(i_factor=W())), salience=100)\n",
        "  def input_1(self):\n",
        "    self.declare(Fact(i_factor=self.i_factor))\n",
        "\n",
        "  @Rule(Fact(action=\"find_journal\"), NOT(Fact(publisher=W())), salience=100)\n",
        "  def input_2(self):\n",
        "    self.declare(Fact(publisher=self.publisher))\n",
        "  \n",
        "  @Rule(Fact(action=\"find_journal\"), NOT(Fact(key_words=W())), salience=100)\n",
        "  def input_3(self):\n",
        "    self.declare(Fact(key_words=self.key_words))\n",
        "\n",
        "  # function for subject\n",
        "  @Rule(Fact(action=\"find_journal\"),Fact(subject=MATCH.subject), salience=90)\n",
        "  def action_sub(self,subject):\n",
        "    res_t = []\n",
        "    if subject == \"All\":\n",
        "      for num in range(len(dataset)):\n",
        "        res_t.append(num)\n",
        "      self.temp_result = res_t\n",
        "      print(f'RULE (Subject->All subjects); got {len(res_t)} documents')\n",
        "      return\n",
        "    for i in range(len(dataset)):\n",
        "      if subject == dataset.iloc[i]['Subject']:\n",
        "        res_t.append(i)\n",
        "    self.temp_result = res_t\n",
        "    print(f'RULE (Subject->{subject}); got {len(res_t)} documents')\n",
        "\n",
        "  # function for i_factor\n",
        "  @Rule(Fact(action=\"find_journal\"),Fact(i_factor=MATCH.i_factor),salience=80)\n",
        "  def action_i_fac(self,i_factor):\n",
        "    res_t = []\n",
        "    i_factor = int(i_factor)\n",
        "    for i in self.temp_result:\n",
        "      i_th = dataset.iloc[i]['Cites / Doc. (2years)']/100.0\n",
        "      if i_factor <= i_th:\n",
        "        res_t.append(i)\n",
        "    self.temp_result = res_t\n",
        "    print(f'RULE (Impact factor->{i_factor}); got {len(res_t)} documents')\n",
        "\n",
        "  # function for Publisher\n",
        "  @Rule(Fact(action=\"find_journal\"),Fact(publisher=MATCH.publisher),salience=70)\n",
        "  def action_pub(self,publisher):\n",
        "    if not publisher == \"All\":\n",
        "      res_t = []\n",
        "      for i in self.temp_result:\n",
        "        if publisher == dataset.iloc[i]['Publisher']:\n",
        "          res_t.append(i)\n",
        "      self.temp_result = res_t\n",
        "      print(f'RULE (Publisher->{publisher}); got {len(res_t)} documents')\n",
        "  \n",
        "  # function for key_words\n",
        "  @Rule(Fact(action=\"find_journal\"),Fact(key_words=MATCH.key_words),salience=60)\n",
        "  def action_kx(self,key_words):\n",
        "    self.result = getQResults(key_words, self.temp_result)\n",
        "\n",
        "  def getResults(self):\n",
        "    return self.result\n",
        "\n",
        "  "
      ],
      "execution_count": 19,
      "outputs": []
    },
    {
      "cell_type": "code",
      "metadata": {
        "id": "dlTY42iTwi4u"
      },
      "source": [
        "engine = JournalExtractor()\n",
        "engine.setAtt(\"All\",\"10\",\"All\",\"cancer nature\")\n",
        "#print(engine.subject)\n",
        "engine.reset()\n",
        "engine.run()\n",
        "ans = engine.getResults()\n",
        "\n",
        "print(ans)\n",
        "\n",
        "for jour in ans:\n",
        "  print()\n",
        "  print(dataset.iloc[jour]['Title'])\n",
        "  print(dataset.iloc[jour]['Subject'])\n",
        "  print(dataset.iloc[jour]['Cites / Doc. (2years)']/100.0)\n",
        "  print(dataset.iloc[jour]['Scope'])\n",
        "  print()"
      ],
      "execution_count": null,
      "outputs": []
    },
    {
      "cell_type": "markdown",
      "metadata": {
        "id": "BlCfXJ6lDTYp"
      },
      "source": [
        "# Flask Application"
      ]
    },
    {
      "cell_type": "code",
      "metadata": {
        "id": "7uVvDF07DYcR",
        "colab": {
          "base_uri": "https://localhost:8080/"
        },
        "outputId": "98442c34-dbe6-4dd6-b9e4-f7519764d36c"
      },
      "source": [
        "!pip install flask-ngrok"
      ],
      "execution_count": 16,
      "outputs": [
        {
          "output_type": "stream",
          "text": [
            "Collecting flask-ngrok\n",
            "  Downloading https://files.pythonhosted.org/packages/af/6c/f54cb686ad1129e27d125d182f90f52b32f284e6c8df58c1bae54fa1adbc/flask_ngrok-0.0.25-py3-none-any.whl\n",
            "Requirement already satisfied: Flask>=0.8 in /usr/local/lib/python3.7/dist-packages (from flask-ngrok) (1.1.2)\n",
            "Requirement already satisfied: requests in /usr/local/lib/python3.7/dist-packages (from flask-ngrok) (2.23.0)\n",
            "Requirement already satisfied: Jinja2>=2.10.1 in /usr/local/lib/python3.7/dist-packages (from Flask>=0.8->flask-ngrok) (2.11.3)\n",
            "Requirement already satisfied: Werkzeug>=0.15 in /usr/local/lib/python3.7/dist-packages (from Flask>=0.8->flask-ngrok) (1.0.1)\n",
            "Requirement already satisfied: click>=5.1 in /usr/local/lib/python3.7/dist-packages (from Flask>=0.8->flask-ngrok) (7.1.2)\n",
            "Requirement already satisfied: itsdangerous>=0.24 in /usr/local/lib/python3.7/dist-packages (from Flask>=0.8->flask-ngrok) (1.1.0)\n",
            "Requirement already satisfied: chardet<4,>=3.0.2 in /usr/local/lib/python3.7/dist-packages (from requests->flask-ngrok) (3.0.4)\n",
            "Requirement already satisfied: urllib3!=1.25.0,!=1.25.1,<1.26,>=1.21.1 in /usr/local/lib/python3.7/dist-packages (from requests->flask-ngrok) (1.24.3)\n",
            "Requirement already satisfied: certifi>=2017.4.17 in /usr/local/lib/python3.7/dist-packages (from requests->flask-ngrok) (2020.12.5)\n",
            "Requirement already satisfied: idna<3,>=2.5 in /usr/local/lib/python3.7/dist-packages (from requests->flask-ngrok) (2.10)\n",
            "Requirement already satisfied: MarkupSafe>=0.23 in /usr/local/lib/python3.7/dist-packages (from Jinja2>=2.10.1->Flask>=0.8->flask-ngrok) (1.1.1)\n",
            "Installing collected packages: flask-ngrok\n",
            "Successfully installed flask-ngrok-0.0.25\n"
          ],
          "name": "stdout"
        }
      ]
    },
    {
      "cell_type": "code",
      "metadata": {
        "id": "TSPKnfImDbc3",
        "colab": {
          "base_uri": "https://localhost:8080/"
        },
        "outputId": "7d2e3f71-233d-4e44-f187-c6158f103959"
      },
      "source": [
        "from flask_ngrok import run_with_ngrok\n",
        "from flask import render_template,request\n",
        "from flask import Flask\n",
        "\n",
        "app = Flask(__name__)\n",
        "run_with_ngrok(app)   #starts ngrok when the app is run\n",
        "\n",
        "@app.route(\"/\")\n",
        "def give_query():\n",
        "    return render_template(\"index.html\")\n",
        "\n",
        "@app.route('/results',methods=[\"POST\"])\n",
        "def get_result():\n",
        "  subj = request.form.get('subj')\n",
        "  keyw = request.form.get('keyw')\n",
        "  i_fact = request.form.get('i_fact')\n",
        "  publ = request.form.get('publ')\n",
        "\n",
        "  engine = JournalExtractor()\n",
        "  engine.setAtt(subj,i_fact,publ,keyw)\n",
        "  #print(engine.subject)\n",
        "  engine.reset()\n",
        "  engine.run()\n",
        "  ans = engine.getResults()\n",
        "\n",
        "  result_s = []\n",
        "\n",
        "  for jour in ans:\n",
        "    single_e = []\n",
        "    single_e.append(dataset.iloc[jour]['Title'])\n",
        "    single_e.append(dataset.iloc[jour]['Link'])\n",
        "    single_e.append(dataset.iloc[jour]['Scope'])\n",
        "    single_e.append(dataset.iloc[jour]['Cites / Doc. (2years)']/100.0)\n",
        "    single_e.append(dataset.iloc[jour]['Coverage'])\n",
        "    result_s.append(single_e)\n",
        "  \n",
        "\n",
        "  return render_template(\"result.html\",q=keyw,res=result_s) \n",
        "  \n",
        "def home():\n",
        "    return \"<h1>Running Flask on Google Colab!</h1>\"\n",
        "\n",
        "app.run()"
      ],
      "execution_count": 23,
      "outputs": [
        {
          "output_type": "stream",
          "text": [
            " * Serving Flask app \"__main__\" (lazy loading)\n",
            " * Environment: production\n",
            "\u001b[31m   WARNING: This is a development server. Do not use it in a production deployment.\u001b[0m\n",
            "\u001b[2m   Use a production WSGI server instead.\u001b[0m\n",
            " * Debug mode: off\n"
          ],
          "name": "stdout"
        },
        {
          "output_type": "stream",
          "text": [
            "INFO:werkzeug: * Running on http://127.0.0.1:5000/ (Press CTRL+C to quit)\n"
          ],
          "name": "stderr"
        },
        {
          "output_type": "stream",
          "text": [
            " * Running on http://41bb7872a3c6.ngrok.io\n",
            " * Traffic stats available on http://127.0.0.1:4040\n"
          ],
          "name": "stdout"
        },
        {
          "output_type": "stream",
          "text": [
            "INFO:werkzeug:127.0.0.1 - - [22/Apr/2021 14:50:45] \"\u001b[37mGET / HTTP/1.1\u001b[0m\" 200 -\n",
            "INFO:werkzeug:127.0.0.1 - - [22/Apr/2021 14:50:49] \"\u001b[37mGET / HTTP/1.1\u001b[0m\" 200 -\n",
            "INFO:werkzeug:127.0.0.1 - - [22/Apr/2021 14:50:50] \"\u001b[37mGET /static/master.css HTTP/1.1\u001b[0m\" 200 -\n",
            "INFO:werkzeug:127.0.0.1 - - [22/Apr/2021 14:50:50] \"\u001b[33mGET /favicon.ico HTTP/1.1\u001b[0m\" 404 -\n",
            "INFO:werkzeug:127.0.0.1 - - [22/Apr/2021 14:50:52] \"\u001b[37mGET / HTTP/1.1\u001b[0m\" 200 -\n",
            "INFO:werkzeug:127.0.0.1 - - [22/Apr/2021 14:50:52] \"\u001b[37mGET /static/master.css HTTP/1.1\u001b[0m\" 200 -\n",
            "INFO:werkzeug:127.0.0.1 - - [22/Apr/2021 14:50:53] \"\u001b[33mGET /favicon.ico HTTP/1.1\u001b[0m\" 404 -\n"
          ],
          "name": "stderr"
        },
        {
          "output_type": "stream",
          "text": [
            "--Finding required Journals--\n"
          ],
          "name": "stdout"
        },
        {
          "output_type": "stream",
          "text": [
            "INFO:werkzeug:127.0.0.1 - - [22/Apr/2021 14:51:09] \"\u001b[37mPOST /results HTTP/1.1\u001b[0m\" 200 -\n"
          ],
          "name": "stderr"
        },
        {
          "output_type": "stream",
          "text": [
            "RULE (Subject->Chemistry); got 460 documents\n",
            "RULE (Impact factor->1); got 302 documents\n",
            "['water']\n"
          ],
          "name": "stdout"
        }
      ]
    }
  ]
}